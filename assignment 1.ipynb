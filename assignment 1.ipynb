{
 "cells": [
  {
   "cell_type": "code",
   "execution_count": null,
   "id": "de855698-36f4-4bb5-a6d4-0589dfbfcac2",
   "metadata": {},
   "outputs": [],
   "source": [
    "1. Dutch programmer Guido van Rossum is known as python language Devloper."
   ]
  },
  {
   "cell_type": "code",
   "execution_count": null,
   "id": "b24936d7-2a46-4f62-a251-315c21869cce",
   "metadata": {},
   "outputs": [],
   "source": [
    "2. python does supports multiple programming paradigms includind structured, object oriented and functional programming."
   ]
  },
  {
   "cell_type": "code",
   "execution_count": null,
   "id": "3cb424b0-ac2f-41ad-9997-95450a236659",
   "metadata": {},
   "outputs": [],
   "source": [
    "3. Yes, Python is a case-sensitive language ex., it treats uppercase and lowercase characters differently. This applies to identifiers too. You must avoid using the same name with different cases while naming identifiers"
   ]
  },
  {
   "cell_type": "code",
   "execution_count": null,
   "id": "a4e18a76-6426-4c3c-90d1-11ddf2e81e4e",
   "metadata": {},
   "outputs": [],
   "source": [
    "4. various extension used in general like .py, .pyi, .pyc, .pyd, .pyo, .pyw, and .pyz."
   ]
  },
  {
   "cell_type": "code",
   "execution_count": null,
   "id": "1d0ceda2-1ae2-4eee-b3aa-14cd0a6a8018",
   "metadata": {},
   "outputs": [],
   "source": [
    "5. Python is both compiled as well as an interpreted language, which means when we run a python code, it is first compiled and then interpreted line by line."
   ]
  },
  {
   "cell_type": "code",
   "execution_count": null,
   "id": "cc0f3d54-9071-42e9-9fc5-6d7cb9636431",
   "metadata": {},
   "outputs": [],
   "source": [
    "6. a module,a function body and a class definition. each command types is block."
   ]
  },
  {
   "cell_type": "code",
   "execution_count": null,
   "id": "a9615d00-1970-4ed4-aaaa-9ac6b23d76f8",
   "metadata": {},
   "outputs": [],
   "source": [
    "7. single hash (#) or multiple hash (##)."
   ]
  },
  {
   "cell_type": "code",
   "execution_count": null,
   "id": "c2b5d4db-93da-4225-953a-e930c7aef39e",
   "metadata": {},
   "outputs": [],
   "source": [
    "8. sys.version is mainly used to known which type version we used."
   ]
  },
  {
   "cell_type": "code",
   "execution_count": null,
   "id": "a8a7f25b-2c6d-4175-b05c-58ff42700e50",
   "metadata": {},
   "outputs": [],
   "source": [
    "9. Lambda"
   ]
  },
  {
   "cell_type": "code",
   "execution_count": null,
   "id": "4d2b9b85-708f-4983-8731-cf1ef5b8c23f",
   "metadata": {},
   "outputs": [],
   "source": [
    "10. preferred installer program"
   ]
  },
  {
   "cell_type": "code",
   "execution_count": null,
   "id": "ff3d6122-0e64-46b0-8c4f-9fcea67d93bd",
   "metadata": {},
   "outputs": [],
   "source": [
    "11.print( ) function,type( ) function,input( ) function,abs( ) function,pow( ) function,dir( ) function,sorted( ) function,max( ) function. etc this are commenly used built-in function in python programming language"
   ]
  },
  {
   "cell_type": "code",
   "execution_count": null,
   "id": "2f3af0f3-dd12-4e6d-b503-893a8137a81b",
   "metadata": {},
   "outputs": [],
   "source": [
    "12.Maximum 79 characters indetifier used in python."
   ]
  },
  {
   "cell_type": "code",
   "execution_count": null,
   "id": "c9967316-d64e-43a4-b7ac-4e2b34bc57b7",
   "metadata": {},
   "outputs": [],
   "source": [
    "13.Large developer community,Python is one of the most popular programming languages in the world,Extensive libraries, Python offers a wide range of libraries that can be used across various applications,Write less, do more,Python has very concise syntax,Portability,\n",
    "Wide range of use,this is the main benefits of using python programming language and in various field like Data science,Scientific and mathematical computing,Web development,Finance and trading,System automation and administration,Computer graphics,Basic game development,Security and penetration testing etc.we can oprate easily using python. "
   ]
  },
  {
   "cell_type": "code",
   "execution_count": null,
   "id": "8f7f68c8-6010-4fcf-98cb-c339eebac087",
   "metadata": {},
   "outputs": [],
   "source": [
    "14.Memory management in Python involves a private heap containing all Python objects and data structures. The management of this private heap is ensured internally by the Python memory manager."
   ]
  },
  {
   "cell_type": "code",
   "execution_count": null,
   "id": "5c5ea1df-cd05-4c42-9379-39d59c6b1d0d",
   "metadata": {},
   "outputs": [],
   "source": [
    "15.\n",
    "The PATH variable is a list of directories where each directory contains the executable file for a command.When a command is entered into the Windows command prompt, the prompt searches in the PATH variable for an executable file with the same name as the command; i​n the case that the required file is not found, it responds with an error message that states that​ the specified command was not recognized.\n",
    "The complete path of python.exe can be added by:\n",
    "1.Right-clicking This PC and going to Properties.\n",
    "2.Clicking on the Advanced system settings in the menu on the left.\n",
    "3.Clicking on the Environment Variables button o​n the bottom right.\n",
    "4.In the System variables section, selecting the Path variable and clicking on Edit. The next screen will show all the directories that are currently a part of the PATH variable.\n",
    "5.Clicking on New and entering Python’s install directory.\n",
    "Python can now be used directly from the command prompt without having to write its location. Try executing the command python --version; it will output the version of Python installed on your system."
   ]
  },
  {
   "cell_type": "code",
   "execution_count": null,
   "id": "32783603-2f5b-4197-9dda-f89a917cb709",
   "metadata": {},
   "outputs": [],
   "source": [
    "16.Indentation refers to the spaces at the beginning of a code line. Where in other programming languages the indentation in code is for readability only, the indentation in Python is very important. Python uses indentation to indicate a block of code."
   ]
  },
  {
   "cell_type": "code",
   "execution_count": null,
   "id": "3c353801-2d85-410c-b5ef-1fda9b24cf90",
   "metadata": {},
   "outputs": [],
   "source": []
  }
 ],
 "metadata": {
  "kernelspec": {
   "display_name": "Python 3 (ipykernel)",
   "language": "python",
   "name": "python3"
  },
  "language_info": {
   "codemirror_mode": {
    "name": "ipython",
    "version": 3
   },
   "file_extension": ".py",
   "mimetype": "text/x-python",
   "name": "python",
   "nbconvert_exporter": "python",
   "pygments_lexer": "ipython3",
   "version": "3.10.8"
  }
 },
 "nbformat": 4,
 "nbformat_minor": 5
}
